{
  "nbformat": 4,
  "nbformat_minor": 0,
  "metadata": {
    "colab": {
      "name": "semi2021spring.ipynb",
      "provenance": [],
      "authorship_tag": "ABX9TyOP/dJGKoVRlbcNlu1u+vH0",
      "include_colab_link": true
    },
    "kernelspec": {
      "name": "python3",
      "display_name": "Python 3"
    },
    "language_info": {
      "name": "python"
    }
  },
  "cells": [
    {
      "cell_type": "markdown",
      "metadata": {
        "id": "view-in-github",
        "colab_type": "text"
      },
      "source": [
        "<a href=\"https://colab.research.google.com/github/ma2ura/Matsuura_Seminar_2021/blob/master/semi2021spring.ipynb\" target=\"_parent\"><img src=\"https://colab.research.google.com/assets/colab-badge.svg\" alt=\"Open In Colab\"/></a>"
      ]
    },
    {
      "cell_type": "markdown",
      "metadata": {
        "id": "jZoSFewFJFsA"
      },
      "source": [
        "# 数値計算ためのライブラリ(モジュールともいう) NumPy(ナンパイ)を学ぶ。"
      ]
    },
    {
      "cell_type": "markdown",
      "metadata": {
        "id": "5QV7udutJQ1r"
      },
      "source": [
        "まずはnumpyライブラリを読み込む。読み込む場合は，\n",
        "import ライブラリ名 as 略名\n",
        "ライブラリ名は何度も出てくるので，略せるようしておく。"
      ]
    },
    {
      "cell_type": "code",
      "metadata": {
        "id": "EYv6wRZuI-gK"
      },
      "source": [
        "import numpy as np"
      ],
      "execution_count": null,
      "outputs": []
    },
    {
      "cell_type": "markdown",
      "metadata": {
        "id": "0x9x2s0_JEZ5"
      },
      "source": [
        "これで`numpy`を読み込んだので，次はベクトルを作る。ライブラリ内のモジュール関数`array()`を用いる。"
      ]
    },
    {
      "cell_type": "code",
      "metadata": {
        "colab": {
          "base_uri": "https://localhost:8080/"
        },
        "id": "Xbcg8huJJscD",
        "outputId": "0291d164-ff92-4038-fa6a-c1d3bc7ac048"
      },
      "source": [
        "arr = np.array([10,20,30,40,50])\n",
        "arr"
      ],
      "execution_count": null,
      "outputs": [
        {
          "output_type": "execute_result",
          "data": {
            "text/plain": [
              "array([10, 20, 30, 40, 50])"
            ]
          },
          "metadata": {
            "tags": []
          },
          "execution_count": 3
        }
      ]
    },
    {
      "cell_type": "markdown",
      "metadata": {
        "id": "GyvjbOFXLD8_"
      },
      "source": [
        "`type()`でデータの型をみる。"
      ]
    },
    {
      "cell_type": "code",
      "metadata": {
        "colab": {
          "base_uri": "https://localhost:8080/"
        },
        "id": "-GIoNPy4K_9N",
        "outputId": "99aa6cc9-591f-4ea4-94b5-2514cbad29cd"
      },
      "source": [
        "type(arr)"
      ],
      "execution_count": null,
      "outputs": [
        {
          "output_type": "execute_result",
          "data": {
            "text/plain": [
              "numpy.ndarray"
            ]
          },
          "metadata": {
            "tags": []
          },
          "execution_count": 4
        }
      ]
    },
    {
      "cell_type": "markdown",
      "metadata": {
        "id": "jZdcxidNLNAK"
      },
      "source": [
        "次は行列を作る。モジュール関数arrayを使うところはベクトルと同じ。\n",
        "4つのベクトルを組み合わせて$4 \\times 4$行列を作り，`mat`に代入"
      ]
    },
    {
      "cell_type": "code",
      "metadata": {
        "colab": {
          "base_uri": "https://localhost:8080/"
        },
        "id": "61i5KYm2LXmg",
        "outputId": "f2564464-6dde-4bec-dfab-1f34b68face5"
      },
      "source": [
        "mat = np.array(\n",
        "    [\n",
        "    [1,2,3,4],\n",
        "    [5,6,7,8],\n",
        "    [9,10,11,12],\n",
        "    [13,14,15,16]\n",
        "    ]\n",
        ")\n",
        "mat"
      ],
      "execution_count": null,
      "outputs": [
        {
          "output_type": "execute_result",
          "data": {
            "text/plain": [
              "array([[ 1,  2,  3,  4],\n",
              "       [ 5,  6,  7,  8],\n",
              "       [ 9, 10, 11, 12],\n",
              "       [13, 14, 15, 16]])"
            ]
          },
          "metadata": {
            "tags": []
          },
          "execution_count": 5
        }
      ]
    },
    {
      "cell_type": "code",
      "metadata": {
        "colab": {
          "base_uri": "https://localhost:8080/"
        },
        "id": "Y_5PofIVLoN_",
        "outputId": "3f3eda9f-3b14-49ba-f115-b08be077ff35"
      },
      "source": [
        "print(type(arr))\n",
        "print(type(mat))"
      ],
      "execution_count": null,
      "outputs": [
        {
          "output_type": "stream",
          "text": [
            "<class 'numpy.ndarray'>\n",
            "<class 'numpy.ndarray'>\n"
          ],
          "name": "stdout"
        }
      ]
    },
    {
      "cell_type": "markdown",
      "metadata": {
        "id": "PUFQhs6-Lv9v"
      },
      "source": [
        "# 一次元配列：要素の抽出\n",
        "\n",
        "Pythonでは配列(ベクトル)の添え字は0から始まる。"
      ]
    },
    {
      "cell_type": "code",
      "metadata": {
        "colab": {
          "base_uri": "https://localhost:8080/"
        },
        "id": "e1QZ1FPeLvRD",
        "outputId": "cd7c1e95-44eb-433d-d224-ddf3ce36b641"
      },
      "source": [
        "arr[1] # 10じゃなく20"
      ],
      "execution_count": null,
      "outputs": [
        {
          "output_type": "execute_result",
          "data": {
            "text/plain": [
              "20"
            ]
          },
          "metadata": {
            "tags": []
          },
          "execution_count": 7
        }
      ]
    },
    {
      "cell_type": "code",
      "metadata": {
        "colab": {
          "base_uri": "https://localhost:8080/"
        },
        "id": "ABqOBJDvL_qD",
        "outputId": "66e23326-795f-4adf-dfeb-abe53368987a"
      },
      "source": [
        "arr[[0,1,3]]"
      ],
      "execution_count": null,
      "outputs": [
        {
          "output_type": "execute_result",
          "data": {
            "text/plain": [
              "array([10, 20, 40])"
            ]
          },
          "metadata": {
            "tags": []
          },
          "execution_count": 10
        }
      ]
    },
    {
      "cell_type": "code",
      "metadata": {
        "colab": {
          "base_uri": "https://localhost:8080/"
        },
        "id": "BT2V1-piMCsg",
        "outputId": "e0c2b1ba-45b6-438f-dd5b-b47da2a6bf55"
      },
      "source": [
        "arr[1:4]"
      ],
      "execution_count": null,
      "outputs": [
        {
          "output_type": "execute_result",
          "data": {
            "text/plain": [
              "array([20, 30, 40])"
            ]
          },
          "metadata": {
            "tags": []
          },
          "execution_count": 11
        }
      ]
    },
    {
      "cell_type": "markdown",
      "metadata": {
        "id": "mF6Yg2hyMS0j"
      },
      "source": [
        "# 行列：要素の抽出\n",
        "\n",
        "`[行のインデックス，列のインデックス]`とする。$3\\times 3$の行列の一番左上の数値は。`mat[0,0]`となる。"
      ]
    },
    {
      "cell_type": "code",
      "metadata": {
        "colab": {
          "base_uri": "https://localhost:8080/"
        },
        "id": "xw1LcolgMu0x",
        "outputId": "46ede3a2-b298-4677-e7b9-bc7cb741e131"
      },
      "source": [
        "mat[0,0]"
      ],
      "execution_count": null,
      "outputs": [
        {
          "output_type": "execute_result",
          "data": {
            "text/plain": [
              "1"
            ]
          },
          "metadata": {
            "tags": []
          },
          "execution_count": 12
        }
      ]
    },
    {
      "cell_type": "markdown",
      "metadata": {
        "id": "bckFuCZwNG9K"
      },
      "source": [
        "第`i`行の抽出の書き方"
      ]
    },
    {
      "cell_type": "code",
      "metadata": {
        "colab": {
          "base_uri": "https://localhost:8080/"
        },
        "id": "EDkUP8CCMRJp",
        "outputId": "ace9ed95-e882-456e-a1ef-d90a550929a8"
      },
      "source": [
        "r0 = mat[0, :] # 1行\n",
        "r0"
      ],
      "execution_count": 21,
      "outputs": [
        {
          "output_type": "execute_result",
          "data": {
            "text/plain": [
              "array([1, 2, 3, 4])"
            ]
          },
          "metadata": {
            "tags": []
          },
          "execution_count": 21
        }
      ]
    },
    {
      "cell_type": "code",
      "metadata": {
        "id": "9Dc5MPq7NQSH",
        "colab": {
          "base_uri": "https://localhost:8080/"
        },
        "outputId": "746c3ae9-1d79-4671-a6b1-c6d7be70c79c"
      },
      "source": [
        "mat[1:3, : ] # 2と3行"
      ],
      "execution_count": 20,
      "outputs": [
        {
          "output_type": "execute_result",
          "data": {
            "text/plain": [
              "array([[ 5,  6,  7,  8],\n",
              "       [ 9, 10, 11, 12]])"
            ]
          },
          "metadata": {
            "tags": []
          },
          "execution_count": 20
        }
      ]
    },
    {
      "cell_type": "code",
      "metadata": {
        "id": "oVqNIgUSSYGA"
      },
      "source": [
        "mat[: , 1] # 列は2列目"
      ],
      "execution_count": null,
      "outputs": []
    },
    {
      "cell_type": "code",
      "metadata": {
        "colab": {
          "base_uri": "https://localhost:8080/"
        },
        "id": "4TbNHfxpSZ80",
        "outputId": "f25c7c00-1503-428e-9009-135dfd66853c"
      },
      "source": [
        "mat[:, 1:3] # 2と3列"
      ],
      "execution_count": 19,
      "outputs": [
        {
          "output_type": "execute_result",
          "data": {
            "text/plain": [
              "array([[ 2,  3],\n",
              "       [ 6,  7],\n",
              "       [10, 11],\n",
              "       [14, 15]])"
            ]
          },
          "metadata": {
            "tags": []
          },
          "execution_count": 19
        }
      ]
    },
    {
      "cell_type": "markdown",
      "metadata": {
        "id": "HPl1plLFTXQ0"
      },
      "source": [
        "# 行列計算\n",
        "\n",
        "行列の演算は統計学や機械学習で良く出てくるので，勉強しておくとよい。"
      ]
    },
    {
      "cell_type": "code",
      "metadata": {
        "id": "vay_zlw6Td8y"
      },
      "source": [
        "m1 = np.array([[1, 1],[1, 1]])\n",
        "m2 = np.array([[2, 2],[2, 2]])"
      ],
      "execution_count": 23,
      "outputs": []
    },
    {
      "cell_type": "code",
      "metadata": {
        "colab": {
          "base_uri": "https://localhost:8080/"
        },
        "id": "uVwkKRtwTj9o",
        "outputId": "1d57deb4-9944-4673-d326-245690ed67d0"
      },
      "source": [
        "m1 + m2 # 行列の和"
      ],
      "execution_count": 24,
      "outputs": [
        {
          "output_type": "execute_result",
          "data": {
            "text/plain": [
              "array([[3, 3],\n",
              "       [3, 3]])"
            ]
          },
          "metadata": {
            "tags": []
          },
          "execution_count": 24
        }
      ]
    },
    {
      "cell_type": "code",
      "metadata": {
        "colab": {
          "base_uri": "https://localhost:8080/"
        },
        "id": "MF--NGPJTtOF",
        "outputId": "73525673-0c8d-453a-e421-271acab7b8bd"
      },
      "source": [
        "m2 - m1 # 行列の差"
      ],
      "execution_count": 25,
      "outputs": [
        {
          "output_type": "execute_result",
          "data": {
            "text/plain": [
              "array([[1, 1],\n",
              "       [1, 1]])"
            ]
          },
          "metadata": {
            "tags": []
          },
          "execution_count": 25
        }
      ]
    },
    {
      "cell_type": "code",
      "metadata": {
        "colab": {
          "base_uri": "https://localhost:8080/"
        },
        "id": "eD0Mj3eTTvT8",
        "outputId": "b8f3cc50-4737-416a-f61e-51ae83582ac7"
      },
      "source": [
        "10 * m1 # 定数倍"
      ],
      "execution_count": 26,
      "outputs": [
        {
          "output_type": "execute_result",
          "data": {
            "text/plain": [
              "array([[10, 10],\n",
              "       [10, 10]])"
            ]
          },
          "metadata": {
            "tags": []
          },
          "execution_count": 26
        }
      ]
    },
    {
      "cell_type": "code",
      "metadata": {
        "colab": {
          "base_uri": "https://localhost:8080/"
        },
        "id": "3x42LeWTT1z6",
        "outputId": "664bb5f8-6f33-4d5c-8cc1-8e92bb2fd751"
      },
      "source": [
        "m1 / 2 # 行列に割り算はないので，1/2で定数倍と同じ意味"
      ],
      "execution_count": 27,
      "outputs": [
        {
          "output_type": "execute_result",
          "data": {
            "text/plain": [
              "array([[0.5, 0.5],\n",
              "       [0.5, 0.5]])"
            ]
          },
          "metadata": {
            "tags": []
          },
          "execution_count": 27
        }
      ]
    },
    {
      "cell_type": "markdown",
      "metadata": {
        "id": "W8Qj9OKqT_8Z"
      },
      "source": [
        "## 行列の積"
      ]
    },
    {
      "cell_type": "code",
      "metadata": {
        "colab": {
          "base_uri": "https://localhost:8080/"
        },
        "id": "ZXeIzjYGT9wj",
        "outputId": "f4443522-c5ee-4cc8-ffd7-efdb40ea3cca"
      },
      "source": [
        "m1 * m2 # 要素同士のかけ算"
      ],
      "execution_count": 28,
      "outputs": [
        {
          "output_type": "execute_result",
          "data": {
            "text/plain": [
              "array([[2, 2],\n",
              "       [2, 2]])"
            ]
          },
          "metadata": {
            "tags": []
          },
          "execution_count": 28
        }
      ]
    },
    {
      "cell_type": "code",
      "metadata": {
        "colab": {
          "base_uri": "https://localhost:8080/"
        },
        "id": "XNAd8uJeUDLg",
        "outputId": "4aa3b3fd-5ff9-45f6-fd45-bcbf095d49ea"
      },
      "source": [
        "m1 @ m2 # 数学で学ぶ行列の積"
      ],
      "execution_count": 29,
      "outputs": [
        {
          "output_type": "execute_result",
          "data": {
            "text/plain": [
              "array([[4, 4],\n",
              "       [4, 4]])"
            ]
          },
          "metadata": {
            "tags": []
          },
          "execution_count": 29
        }
      ]
    },
    {
      "cell_type": "code",
      "metadata": {
        "colab": {
          "base_uri": "https://localhost:8080/"
        },
        "id": "LMo-uhmQUJiF",
        "outputId": "6436114d-0049-4da0-b2b4-dcd164432a1d"
      },
      "source": [
        "np.dot(m1,m2) # モジュラー関数`dot`だとこう書く"
      ],
      "execution_count": 30,
      "outputs": [
        {
          "output_type": "execute_result",
          "data": {
            "text/plain": [
              "array([[4, 4],\n",
              "       [4, 4]])"
            ]
          },
          "metadata": {
            "tags": []
          },
          "execution_count": 30
        }
      ]
    },
    {
      "cell_type": "markdown",
      "metadata": {
        "id": "9BE5oIL3UYI6"
      },
      "source": [
        "## 転置行列\n",
        "\n",
        "$2 \\times 3$行列を作る"
      ]
    },
    {
      "cell_type": "code",
      "metadata": {
        "colab": {
          "base_uri": "https://localhost:8080/"
        },
        "id": "NcbMG2TSUSM3",
        "outputId": "abdd6190-1f6f-4837-90e5-5c47d89b15fe"
      },
      "source": [
        "m3 = np.array([[1,2,3],[4,5,6]])\n",
        "m3"
      ],
      "execution_count": 32,
      "outputs": [
        {
          "output_type": "execute_result",
          "data": {
            "text/plain": [
              "array([[1, 2, 3],\n",
              "       [4, 5, 6]])"
            ]
          },
          "metadata": {
            "tags": []
          },
          "execution_count": 32
        }
      ]
    },
    {
      "cell_type": "markdown",
      "metadata": {
        "id": "UgQdZQrQUjMb"
      },
      "source": [
        "メソッド`transpose()`を使って転置行列にする。\n",
        "変数`m3`の後ろにドットを置いてメソッドを使う。"
      ]
    },
    {
      "cell_type": "code",
      "metadata": {
        "colab": {
          "base_uri": "https://localhost:8080/"
        },
        "id": "Qo_Ej6xDUnDW",
        "outputId": "05f0404e-3683-4f6f-9385-6dfa1291476a"
      },
      "source": [
        "m3.transpose()"
      ],
      "execution_count": 33,
      "outputs": [
        {
          "output_type": "execute_result",
          "data": {
            "text/plain": [
              "array([[1, 4],\n",
              "       [2, 5],\n",
              "       [3, 6]])"
            ]
          },
          "metadata": {
            "tags": []
          },
          "execution_count": 33
        }
      ]
    },
    {
      "cell_type": "code",
      "metadata": {
        "colab": {
          "base_uri": "https://localhost:8080/"
        },
        "id": "74_4QafjUoq6",
        "outputId": "8f332af1-ddb0-4fd2-b75c-98c13ed21ccb"
      },
      "source": [
        "m3.T # これでもOK"
      ],
      "execution_count": 34,
      "outputs": [
        {
          "output_type": "execute_result",
          "data": {
            "text/plain": [
              "array([[1, 4],\n",
              "       [2, 5],\n",
              "       [3, 6]])"
            ]
          },
          "metadata": {
            "tags": []
          },
          "execution_count": 34
        }
      ]
    },
    {
      "cell_type": "code",
      "metadata": {
        "id": "5xjcn_UxU8sY"
      },
      "source": [
        ""
      ],
      "execution_count": null,
      "outputs": []
    },
    {
      "cell_type": "markdown",
      "metadata": {
        "id": "RQhGzl2UU_hW"
      },
      "source": [
        "## 逆行列\n",
        "\n",
        "逆行列の計算はよく出てくるし，計算が面倒なので，パソコンにやらせたい演算No.1です。"
      ]
    },
    {
      "cell_type": "code",
      "metadata": {
        "id": "-JNfi1E_VJEr"
      },
      "source": [
        "from numpy.linalg import inv"
      ],
      "execution_count": 35,
      "outputs": []
    },
    {
      "cell_type": "code",
      "metadata": {
        "colab": {
          "base_uri": "https://localhost:8080/"
        },
        "id": "sgpP8seCVMjk",
        "outputId": "541df1b9-1dfb-4ccb-b868-8e8d29de894a"
      },
      "source": [
        "m4 = np.array([[1, 2],[3, 4]])\n",
        "m4"
      ],
      "execution_count": 38,
      "outputs": [
        {
          "output_type": "execute_result",
          "data": {
            "text/plain": [
              "array([[1, 2],\n",
              "       [3, 4]])"
            ]
          },
          "metadata": {
            "tags": []
          },
          "execution_count": 38
        }
      ]
    },
    {
      "cell_type": "code",
      "metadata": {
        "colab": {
          "base_uri": "https://localhost:8080/"
        },
        "id": "z7lM_PUmVRLy",
        "outputId": "f2caf94f-8563-4af8-aaf6-3f0a9d78f37a"
      },
      "source": [
        "inv(m4)"
      ],
      "execution_count": 39,
      "outputs": [
        {
          "output_type": "execute_result",
          "data": {
            "text/plain": [
              "array([[-2. ,  1. ],\n",
              "       [ 1.5, -0.5]])"
            ]
          },
          "metadata": {
            "tags": []
          },
          "execution_count": 39
        }
      ]
    },
    {
      "cell_type": "markdown",
      "metadata": {
        "id": "avA69vIWVcPn"
      },
      "source": [
        "逆行列を用いて連立方程式を解く。通称，クラメールの法則\n",
        "$$\n",
        "ax + bz + cy  = m\\\\\n",
        "ex + fz + gy  = n\\\\\n",
        "hx +iz +  jy = o\n",
        "$$\n",
        "という未知変数が$x, y, z$の連立方程式があるとする。これを行列表記すると，\n",
        "$$\n",
        "\\left (\n",
        "  \\begin{array}\n",
        "  1a & b & c\\\\\n",
        "  e & f & g\\\\\n",
        "  h & i & j\\\\\n",
        "  \\end{array}  \n",
        "\\right )\n",
        "\\left (\n",
        "  \\begin{array}\n",
        "  1x \\\\\n",
        "  y\\\\\n",
        "  z\n",
        "  \\end{array}\n",
        "\\right ) = \n",
        "\\left (\n",
        "  \\begin{array}\n",
        "  1m \\\\\n",
        "  n\\\\\n",
        "  0\n",
        "  \\end{array}\n",
        "\\right ) \n",
        "$$\n",
        "となり，次のように表記することにする。\n",
        "$$\n",
        "\\boldsymbol{Ax} = \\boldsymbol{b} \n",
        "$$\n",
        "両辺に左から$A$の逆行列$A^{-1}$を乗じると，\n",
        "$$\n",
        "\\boldsymbol{A^{-1}Ax} = \\boldsymbol{A^{-1}b} \n",
        "$$\n",
        "となり，$\\boldsymbol{A^{-1}A}$は単位行列$I$となるため，\n",
        "$$\n",
        "\\boldsymbol{x} = \\boldsymbol{A^{-1}b} \n",
        "$$\n",
        "となり，未知数が求められる。\n",
        "\n",
        "たとえば，\n",
        "$$\n",
        "2 x_1 + 3x_2 = 1\\\\\n",
        "5x_1 + x_2 = 3\n",
        "$$\n",
        "を解いてみる。行列にすると\n",
        "$$\n",
        "\\left (\n",
        "  \\begin{array}\n",
        "  12 & 3 \\\\\n",
        "  5 & 1 \n",
        "  \\end{array}  \n",
        "\\right )\n",
        "\\left (\n",
        "  \\begin{array}\n",
        "  1x_1 \\\\\n",
        "  x_2\n",
        "  \\end{array}\n",
        "\\right ) = \n",
        "\\left (\n",
        "  \\begin{array}\n",
        "  11 \\\\\n",
        "  3\n",
        "  \\end{array}\n",
        "\\right )\n",
        "$$\n",
        "左から逆行列をかける。\n",
        "$$\n",
        "\\left (\n",
        "  \\begin{array}\n",
        "  1x_1 \\\\\n",
        "  x_2\n",
        "  \\end{array}\n",
        "\\right ) = \n",
        "\\left (\n",
        "  \\begin{array}\n",
        "  12 & 3 \\\\\n",
        "  5 & 1 \n",
        "  \\end{array}  \n",
        "\\right )^{-1}\n",
        "\\left (\n",
        "  \\begin{array}\n",
        "  11 \\\\\n",
        "  3\n",
        "  \\end{array}\n",
        "\\right )\n",
        "$$"
      ]
    },
    {
      "cell_type": "code",
      "metadata": {
        "colab": {
          "base_uri": "https://localhost:8080/"
        },
        "id": "iNTYV4pwVVy0",
        "outputId": "0f3064df-7232-4ffe-aca0-8caff35f5521"
      },
      "source": [
        "a = np.array([[2,3],[5,1]])\n",
        "a"
      ],
      "execution_count": 47,
      "outputs": [
        {
          "output_type": "execute_result",
          "data": {
            "text/plain": [
              "array([[2, 3],\n",
              "       [5, 1]])"
            ]
          },
          "metadata": {
            "tags": []
          },
          "execution_count": 47
        }
      ]
    },
    {
      "cell_type": "code",
      "metadata": {
        "id": "KhxQLtGZZeyL"
      },
      "source": [
        "ia = inv(a)"
      ],
      "execution_count": 48,
      "outputs": []
    },
    {
      "cell_type": "code",
      "metadata": {
        "id": "lvQbPDfxZiZw"
      },
      "source": [
        "b = np.array([[1],[3]])"
      ],
      "execution_count": 49,
      "outputs": []
    },
    {
      "cell_type": "code",
      "metadata": {
        "colab": {
          "base_uri": "https://localhost:8080/"
        },
        "id": "zq_8KCzCZoqg",
        "outputId": "84bb77e6-6210-49ff-e343-5cdfe86d6096"
      },
      "source": [
        "ia@b"
      ],
      "execution_count": 50,
      "outputs": [
        {
          "output_type": "execute_result",
          "data": {
            "text/plain": [
              "array([[ 0.61538462],\n",
              "       [-0.07692308]])"
            ]
          },
          "metadata": {
            "tags": []
          },
          "execution_count": 50
        }
      ]
    },
    {
      "cell_type": "code",
      "metadata": {
        "id": "wcrHQXQqZqO_"
      },
      "source": [
        ""
      ],
      "execution_count": null,
      "outputs": []
    }
  ]
}